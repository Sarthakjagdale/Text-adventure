{
 "cells": [
  {
   "cell_type": "code",
   "execution_count": 2,
   "metadata": {},
   "outputs": [
    {
     "data": {
      "application/vnd.jupyter.widget-view+json": {
       "model_id": "9ef8937837d248e6be0fa24aae44cf05",
       "version_major": 2,
       "version_minor": 0
      },
      "text/plain": [
       "HTML(value=\"<b><h1 style= 'color:BLUE'> Can you guess, what's in the box? </h1></b>\")"
      ]
     },
     "metadata": {},
     "output_type": "display_data"
    },
    {
     "name": "stdout",
     "output_type": "stream",
     "text": [
      "< Press enter to start the game >\n",
      "\n",
      "-----------------------------------------------------------------\n"
     ]
    },
    {
     "data": {
      "application/vnd.jupyter.widget-view+json": {
       "model_id": "beaccc9913a34423b5e51505a507a547",
       "version_major": 2,
       "version_minor": 0
      },
      "text/plain": [
       "HTML(value=\"<b><h1 style= 'color:BLACK'> Enter your Name, Age and Gender.</h1></b>\")"
      ]
     },
     "metadata": {},
     "output_type": "display_data"
    },
    {
     "name": "stdout",
     "output_type": "stream",
     "text": [
      " Please enter your name:\n",
      "suhas\n",
      " Enter your age: \n",
      "25\n",
      " please enter your gender:\n",
      " m\n",
      "-----------------------------------------------------------------\n",
      " < Press Enter to continue > \n",
      "suhas, 25 is the age to find your true soul mate. If you already have, then you're in good hands!!\n",
      "-----------------------------------------------------------------\n"
     ]
    },
    {
     "data": {
      "application/vnd.jupyter.widget-view+json": {
       "model_id": "e95ea11670304552936eddff3597403f",
       "version_major": 2,
       "version_minor": 0
      },
      "text/plain": [
       "HTML(value=\"<b><h1 style= 'color:BLACK'> Most importantly, enjoy the game! </h1></b>\")"
      ]
     },
     "metadata": {},
     "output_type": "display_data"
    },
    {
     "data": {
      "application/vnd.jupyter.widget-view+json": {
       "model_id": "9d17560299ca4f68b3b8498d459d780f",
       "version_major": 2,
       "version_minor": 0
      },
      "text/plain": [
       "HTML(value=\"<b><h1 style= 'color:BLACK'> >>> Guess the 1st jumbled word(adjective). </h1></b>\")"
      ]
     },
     "metadata": {},
     "output_type": "display_data"
    },
    {
     "name": "stdout",
     "output_type": "stream",
     "text": [
      "      \n",
      "Hint: Check the jumbled letters and select the best options possible. \n",
      "            \n",
      "            \n",
      "     | |                 | |         / _|                          \n",
      "   __| |  _   _    ___   | |   ___  | |_   _ __   __      __  _ __ \n",
      "  / _` | | | | |  / _ \\  | |  / _ \\ |  _| | '_ \\  \\ \\ /\\ / / | '__|\n",
      " | (_| | | |_| | | (_) | | | |  __/ | |   | | | |  \\ V  V /  | |   \n",
      "  \\__,_|  \\__,_|  \\___/  |_|  \\___| |_|   |_| |_|   \\_/\\_/   |_|    \n",
      "  \n",
      "  \n",
      "\t\tGuess the right word!\n",
      "\n"
     ]
    },
    {
     "data": {
      "application/vnd.jupyter.widget-view+json": {
       "model_id": "51c7cc6999a1405b8d8956d262d09dd7",
       "version_major": 2,
       "version_minor": 0
      },
      "text/plain": [
       "Dropdown(description='Options:', options=('Select one', 'Owner', 'Fulldoner', 'Doner', 'Wonderful'), value='Se…"
      ]
     },
     "metadata": {},
     "output_type": "display_data"
    },
    {
     "name": "stdout",
     "output_type": "stream",
     "text": [
      "< Press Enter >\n"
     ]
    },
    {
     "data": {
      "application/vnd.jupyter.widget-view+json": {
       "model_id": "43d0703b50eb4f3494ba9ed2aef4831e",
       "version_major": 2,
       "version_minor": 0
      },
      "text/plain": [
       "HTML(value=\"<b><h1 style= 'color:GREEN'> Thats right! You're Smart... </h1></b>\")"
      ]
     },
     "metadata": {},
     "output_type": "display_data"
    },
    {
     "data": {
      "application/vnd.jupyter.widget-view+json": {
       "model_id": "21b66a6002924f12a1a2eaaac6ec0e71",
       "version_major": 2,
       "version_minor": 0
      },
      "text/plain": [
       "IntProgress(value=2, bar_style='success', description='Win:', max=8)"
      ]
     },
     "metadata": {},
     "output_type": "display_data"
    },
    {
     "name": "stdout",
     "output_type": "stream",
     "text": [
      "-------------------------------------------------------------------------------------------------------------------------\n"
     ]
    },
    {
     "data": {
      "application/vnd.jupyter.widget-view+json": {
       "model_id": "3cfd3eaac07c47bbb9c46a4166c5399f",
       "version_major": 2,
       "version_minor": 0
      },
      "text/plain": [
       "HTML(value=\"<b><h1 style= 'color:BLACK'> >>> Count and type the 2nd most recurring letter. </h1></b>\")"
      ]
     },
     "metadata": {},
     "output_type": "display_data"
    },
    {
     "name": "stdout",
     "output_type": "stream",
     "text": [
      "\n",
      "Hint: Check the spelling twice.\n",
      "\n",
      " /$$$$$$$$ /$$   /$$ /$$$$$$$$ /$$$$$$$  /$$$$$$$$ /$$$$$$$  /$$$$$$$  /$$$$$$$$ /$$   /$$ /$$$$$$$$ /$$   /$$ /$$$$$$$ \n",
      "| $$_____/| $$$ | $$|__  $$__/| $$__  $$| $$_____/| $$__  $$| $$__  $$| $$_____/| $$$ | $$| $$_____/| $$  | $$| $$__  $$\n",
      "| $$      | $$$$| $$   | $$   | $$  \\ $$| $$      | $$  \\ $$| $$  \\ $$| $$      | $$$$| $$| $$      | $$  | $$| $$  \\ $$\n",
      "| $$$$$   | $$ $$ $$   | $$   | $$$$$$$/| $$$$$   | $$$$$$$/| $$$$$$$/| $$$$$   | $$ $$ $$| $$$$$   | $$  | $$| $$$$$$$/\n",
      "| $$__/   | $$  $$$$   | $$   | $$__  $$| $$__/   | $$____/ | $$__  $$| $$__/   | $$  $$$$| $$__/   | $$  | $$| $$__  $$\n",
      "| $$      | $$\\  $$$   | $$   | $$  \\ $$| $$      | $$      | $$  \\ $$| $$      | $$\\  $$$| $$      | $$  | $$| $$  \\ $$\n",
      "| $$$$$$$$| $$ \\  $$   | $$   | $$  | $$| $$$$$$$$| $$      | $$  | $$| $$$$$$$$| $$ \\  $$| $$$$$$$$|  $$$$$$/| $$  | $$\n",
      "|________/|__/  \\__/   |__/   |__/  |__/|________/|__/      |__/  |__/|________/|__/  \\__/|________/ \\______/ |__/  |__/                                                                                                                      \n",
      "\n",
      "please type you answer! a\n"
     ]
    },
    {
     "data": {
      "application/vnd.jupyter.widget-view+json": {
       "model_id": "1387c2ac106547c08340338d98973008",
       "version_major": 2,
       "version_minor": 0
      },
      "text/plain": [
       "HTML(value=\"<b><h1 style= 'color:RED'> That is indeed incorrect! </h1></b>\")"
      ]
     },
     "metadata": {},
     "output_type": "display_data"
    },
    {
     "data": {
      "application/vnd.jupyter.widget-view+json": {
       "model_id": "7081e96d9b2b4cdd9758be78ca86de53",
       "version_major": 2,
       "version_minor": 0
      },
      "text/plain": [
       "IntProgress(value=2, bar_style='danger', description='Lose:', max=8)"
      ]
     },
     "metadata": {},
     "output_type": "display_data"
    },
    {
     "name": "stdout",
     "output_type": "stream",
     "text": [
      "Restart the gamechances left 1\n",
      "please type you answer! r\n"
     ]
    },
    {
     "data": {
      "application/vnd.jupyter.widget-view+json": {
       "model_id": "b7e16f3d44ba4dbd848f252f8a207e2d",
       "version_major": 2,
       "version_minor": 0
      },
      "text/plain": [
       "HTML(value=\"<b><h1 style= 'color:GREEN'> OOH! Thats right! </h1></b>\")"
      ]
     },
     "metadata": {},
     "output_type": "display_data"
    },
    {
     "name": "stdout",
     "output_type": "stream",
     "text": [
      "Nice Work\n"
     ]
    },
    {
     "data": {
      "application/vnd.jupyter.widget-view+json": {
       "model_id": "21b66a6002924f12a1a2eaaac6ec0e71",
       "version_major": 2,
       "version_minor": 0
      },
      "text/plain": [
       "IntProgress(value=4, bar_style='success', description='Win:', max=8)"
      ]
     },
     "metadata": {},
     "output_type": "display_data"
    },
    {
     "name": "stdout",
     "output_type": "stream",
     "text": [
      "--------------------------------------------------------------------------------------\n"
     ]
    },
    {
     "data": {
      "application/vnd.jupyter.widget-view+json": {
       "model_id": "56715a225bb44f8b9215bd8ed67787e0",
       "version_major": 2,
       "version_minor": 0
      },
      "text/plain": [
       "HTML(value=\"<b><h1 style= 'color:BLACK'> >>> Type the correct jumbled name. </h1></b>\")"
      ]
     },
     "metadata": {},
     "output_type": "display_data"
    },
    {
     "name": "stdout",
     "output_type": "stream",
     "text": [
      "\n",
      "                                    Hint: It is a famous name, however it’s also a duck!.\n",
      "\n",
      "           _     _ _             \n",
      "          | |   | | |            \n",
      "  __ _  __| | __| | | ___  _ __  \n",
      " / _` |/ _` |/ _` | |/ _ \\| '_ \\ \n",
      "| (_| | (_| | (_| | | (_) | | | |\n",
      " \\__,_|\\__,_|\\__,_|_|\\___/|_| |_|\n",
      "                                               \n",
      "\n",
      "\n",
      "lets see how you perform\n",
      "\n",
      "please type you answer! donald\n"
     ]
    },
    {
     "data": {
      "application/vnd.jupyter.widget-view+json": {
       "model_id": "b7e16f3d44ba4dbd848f252f8a207e2d",
       "version_major": 2,
       "version_minor": 0
      },
      "text/plain": [
       "HTML(value=\"<b><h1 style= 'color:GREEN'> OOH! Thats right! </h1></b>\")"
      ]
     },
     "metadata": {},
     "output_type": "display_data"
    },
    {
     "name": "stdout",
     "output_type": "stream",
     "text": [
      " You played well suhas, Congratulations!\n"
     ]
    },
    {
     "data": {
      "application/vnd.jupyter.widget-view+json": {
       "model_id": "21b66a6002924f12a1a2eaaac6ec0e71",
       "version_major": 2,
       "version_minor": 0
      },
      "text/plain": [
       "IntProgress(value=6, bar_style='success', description='Win:', max=8)"
      ]
     },
     "metadata": {},
     "output_type": "display_data"
    },
    {
     "name": "stdout",
     "output_type": "stream",
     "text": [
      "< press enter to continue >\n",
      "---------------------------------------------------------------------------------------------------\n"
     ]
    },
    {
     "data": {
      "application/vnd.jupyter.widget-view+json": {
       "model_id": "32daa9985c34497fbd44a3931482c482",
       "version_major": 2,
       "version_minor": 0
      },
      "text/plain": [
       "HTML(value=\"<b><h1 style= 'color:GREEN'> Donald who is a wonderful Entrepreneur had a divorce and wants to go …"
      ]
     },
     "metadata": {},
     "output_type": "display_data"
    },
    {
     "name": "stdout",
     "output_type": "stream",
     "text": [
      "\n",
      " Now empathize with Donald and pick a city that’s the farthest in the US.\n",
      "\n",
      " Select a City: london\n"
     ]
    },
    {
     "data": {
      "application/vnd.jupyter.widget-view+json": {
       "model_id": "1975df8ad5a04c568b1ab07d5ccb2e8a",
       "version_major": 2,
       "version_minor": 0
      },
      "text/plain": [
       "HTML(value=\"<b><h1 style= 'color:RED'>Looks like you're having geographical challanges. Nevertheless, try agai…"
      ]
     },
     "metadata": {},
     "output_type": "display_data"
    },
    {
     "data": {
      "application/vnd.jupyter.widget-view+json": {
       "model_id": "7081e96d9b2b4cdd9758be78ca86de53",
       "version_major": 2,
       "version_minor": 0
      },
      "text/plain": [
       "IntProgress(value=4, bar_style='danger', description='Lose:', max=8)"
      ]
     },
     "metadata": {},
     "output_type": "display_data"
    },
    {
     "name": "stdout",
     "output_type": "stream",
     "text": [
      " try again!\n",
      " You have 0 chance left\n",
      " Select a City: boston\n"
     ]
    },
    {
     "data": {
      "application/vnd.jupyter.widget-view+json": {
       "model_id": "1975df8ad5a04c568b1ab07d5ccb2e8a",
       "version_major": 2,
       "version_minor": 0
      },
      "text/plain": [
       "HTML(value=\"<b><h1 style= 'color:RED'>Looks like you're having geographical challanges. Nevertheless, try agai…"
      ]
     },
     "metadata": {},
     "output_type": "display_data"
    },
    {
     "data": {
      "application/vnd.jupyter.widget-view+json": {
       "model_id": "7081e96d9b2b4cdd9758be78ca86de53",
       "version_major": 2,
       "version_minor": 0
      },
      "text/plain": [
       "IntProgress(value=6, bar_style='danger', description='Lose:', max=8)"
      ]
     },
     "metadata": {},
     "output_type": "display_data"
    },
    {
     "name": "stdout",
     "output_type": "stream",
     "text": [
      " try again!\n",
      " You have -1 chance left\n"
     ]
    },
    {
     "ename": "SystemExit",
     "evalue": "You lost, Better Luck Next Time",
     "output_type": "error",
     "traceback": [
      "An exception has occurred, use %tb to see the full traceback.\n",
      "\u001b[1;31mSystemExit\u001b[0m\u001b[1;31m:\u001b[0m You lost, Better Luck Next Time\n"
     ]
    }
   ],
   "source": [
    "\"\"\"\n",
    "Created on Thu oct 17 15:14:36 2019\n",
    "@author: Sarthak.Jagdale\n",
    "\n",
    "\n",
    "\"\"\"\n",
    "\"\"\"\n",
    "DocString:\n",
    "A) Introduction:\n",
    "    This game is based on a story that is fictional as well as factual,\n",
    "    using the ASCII Tags taught during the class. It consists of three stages, \n",
    "    and also has defined functions for start, win, and lose. This game requires \n",
    "    honesty in the Trivia which is not graded, and having a small amount of \n",
    "    knowledge about the geography will be helpful.There are widgets in the game\n",
    "    (Lose, Win, dropdowns)\n",
    "    \n",
    "    This game has a 5 parts\n",
    "    1> Guess the Jumbled word.\n",
    "    2> Read the question carefully.\n",
    "    3> Guess the jumbled word\n",
    "    4> Story combining the first three questions\n",
    "    5> Infomative Trivia (element of surprise) \n",
    "\n",
    "B) Bugs : \n",
    "    ->  Just in case the drop down for question 1 doesn't work,\n",
    "        kindly input for the dropdown.value which is assigned to\n",
    "        user_guess1\n",
    "\n",
    "\"\"\"\n",
    "\n",
    "#Importing important packages(eg: widget etc).\n",
    "import ipywidgets as ipw\n",
    "from ipywidgets import *\n",
    "import numpy as np\n",
    "import time \n",
    "import sys\n",
    "\n",
    "\n",
    "progress = ipw.IntProgress(\n",
    "    value=0,\n",
    "    min=0,\n",
    "    max=8,\n",
    "    step=1,\n",
    "    description='Win:',\n",
    "    bar_style='success', # 'success', 'info', 'warning', 'danger' or ''\n",
    "    orientation='horizontal'\n",
    ") \n",
    "lose = ipw.IntProgress(\n",
    "    value=0,\n",
    "    min=0,\n",
    "    max=8,\n",
    "    step=1,\n",
    "    description='Lose:',\n",
    "    bar_style='danger', # 'success', 'info', 'warning', 'danger' or ''\n",
    "    orientation='horizontal'\n",
    ") \n",
    "\n",
    "#Represent HTML variavbles for good effects:\n",
    "correct_ans = HTML(\"<b><h1 style= 'color:GREEN'> Thats right! You're Smart... </h1></b>\")\n",
    "wrong_ans = HTML(\"<b><h1 style= 'color:RED'> Thats not right! </h1></b>\")\n",
    "correct_ans_1 = HTML(\"<b><h1 style= 'color:GREEN'> OOH! Thats right! </h1></b>\")\n",
    "wrong_ans_1 = HTML(\"<b><h1 style= 'color:RED'> That is indeed incorrect! </h1></b>\")\n",
    "correct_ans_geo = HTML(\"<b><h1 style= 'color:GREEN'> Thats awesome! You seem really good at geography. You just made the New President. Congrats! </h1></b>\")\n",
    "wrong_ans_geo = HTML(\"<b><h1 style= 'color:RED'>Looks like you're having geographical challanges. Nevertheless, try again! </h1></b>\")\n",
    "final_msg = HTML(\"<b><h1 style= 'color:GREEN'> You Win! but...</h1><b>\")\n",
    "#questions:\n",
    "ques_1 = HTML(\"<b><h1 style= 'color:BLACK'> >>> Guess the 1st jumbled word(adjective). </h1></b>\")\n",
    "ques_2 = HTML(\"<b><h1 style= 'color:BLACK'> >>> Count and type the 2nd most recurring letter. </h1></b>\")\n",
    "ques_3 = HTML(\"<b><h1 style= 'color:BLACK'> >>> Type the correct jumbled name. </h1></b>\")\n",
    "\n",
    "#instructions:\n",
    "intructions = HTML(\"<b><h1 style= 'color:BLUE'> Can you guess, what's in the box? </h1></b>\")\n",
    "\n",
    "\n",
    "intruction1 = HTML(\"<b><h1 style= 'color:BLACK'> Enter your Name, Age and Gender.</h1></b>\")\n",
    "intruction2 = HTML(\"<b><h1 style= 'color:BLUE'> Do give us a feedback to improve, Thank you!</h1></b>\")\n",
    "intruction3 = HTML(\"<b><h1 style= 'color:BLACK'> There are 3 levels of complexity, which goes Easy to Hard. </h1></b>\")\n",
    "intruction3a = HTML(\"<b><h1 style= 'color:BLACK'>   a) Level 1 consists of finding the jumbled words.</h1></b>\")\n",
    "intruction3b = HTML(\"<b><h1 style= 'color:BLACK'>   b) Level 2 consists of guessing the distance. </h1></b>\")\n",
    "intruction3c = HTML(\"<b><h1 style= 'color:BLACK'>   c) Level 3 has complex trivia questions. </h1></b>\")\n",
    "intruction4 = HTML(\"<b><h1 style= 'color:BLACK'> Most importantly, enjoy the game! </h1></b>\")\n",
    "display(intructions)\n",
    "#display(intruction1)\n",
    "#display(intruction2)\n",
    "#display(intruction3)\n",
    "#display(intruction3a)\n",
    "#display(intruction3b)\n",
    "#display(intruction3c)\n",
    "#display(intruction4)\n",
    "time.sleep(0.2)\n",
    "input(prompt=\"< Press enter to start the game >\\n\")\n",
    "print(\"-----------------------------------------------------------------\")\n",
    "#Use of Name as input and age slider widget(pre-defined value of range of 100 ) \n",
    "display(intruction1)\n",
    "name = input(\" Please enter your name:\\n\")\n",
    "age = int(input(\" Enter your age: \\n\"))\n",
    "gender = input (\" please enter your gender:\\n \")\n",
    "print(\"-----------------------------------------------------------------\")\n",
    "input(prompt=\" < Press Enter to continue > \")\n",
    "time.sleep(0.3)\n",
    "\n",
    "def user(name, age): \n",
    "    \"\"\"USER DETAILS\"\"\"\n",
    "    usr_name = name \n",
    "    usr_age = age  \n",
    "    if usr_age < 18:\n",
    "        return name + f\", you're {usr_age}? You are really young! grow up.. \"\n",
    "    elif usr_age < 29 and age > 17:\n",
    "        return name + f\", {usr_age} is the age to find your true soul mate. If you already have, then you're in good hands!!\"\n",
    "    else:\n",
    "        return name + \", You are beautiful at heart. Keep spreading your wisdom. \"\n",
    "user_det = user(name, age)\n",
    "print (user_det)\n",
    "print(\"-----------------------------------------------------------------\")\n",
    "time.sleep(1)    \n",
    "display(intruction4)\n",
    "\n",
    "display(ques_1)\n",
    "print(\"\"\"      \\nHint: Check the jumbled letters and select the best options possible. \n",
    "            \n",
    "            \n",
    "     | |                 | |         / _|                          \n",
    "   __| |  _   _    ___   | |   ___  | |_   _ __   __      __  _ __ \n",
    "  / _` | | | | |  / _ \\  | |  / _ \\ |  _| | '_ \\  \\ \\ /\\ / / | '__|\n",
    " | (_| | | |_| | | (_) | | | |  __/ | |   | | | |  \\ V  V /  | |   \n",
    "  \\__,_|  \\__,_|  \\___/  |_|  \\___| |_|   |_| |_|   \\_/\\_/   |_|    \n",
    "  \n",
    "  \"\"\")\n",
    "print(\"\\t\\tGuess the right word!\\n\")\n",
    "drpdown1 = ipw.Dropdown(options = ['Select one', 'Owner', 'Fulldoner', 'Doner', 'Wonderful'], description = \"Options:\")\n",
    "display(drpdown1)\n",
    "time.sleep(3)\n",
    "input(prompt=\"< Press Enter >\" )\n",
    "\n",
    "drpdown1.value = 'Wonderful'\n",
    "user_guess1 = drpdown1.value\n",
    "user_guess1\n",
    "\n",
    "\n",
    "\n",
    "optn1 = True\n",
    "while optn1 == True: \n",
    "    if user_guess1 != \"Wonderful\":\n",
    "        display(wrong_ans)\n",
    "        optn1 = False\n",
    "    else: \n",
    "        display(correct_ans)\n",
    "        optn1 = False\n",
    "    \n",
    "progress.value = 2\n",
    "display(progress)\n",
    "\n",
    "\n",
    "print(\"-------------------------------------------------------------------------------------------------------------------------\")\n",
    "display(ques_2)\n",
    "print(\"\"\"\n",
    "Hint: Check the spelling twice.\n",
    "\n",
    " /$$$$$$$$ /$$   /$$ /$$$$$$$$ /$$$$$$$  /$$$$$$$$ /$$$$$$$  /$$$$$$$  /$$$$$$$$ /$$   /$$ /$$$$$$$$ /$$   /$$ /$$$$$$$ \n",
    "| $$_____/| $$$ | $$|__  $$__/| $$__  $$| $$_____/| $$__  $$| $$__  $$| $$_____/| $$$ | $$| $$_____/| $$  | $$| $$__  $$\n",
    "| $$      | $$$$| $$   | $$   | $$  \\ $$| $$      | $$  \\ $$| $$  \\ $$| $$      | $$$$| $$| $$      | $$  | $$| $$  \\ $$\n",
    "| $$$$$   | $$ $$ $$   | $$   | $$$$$$$/| $$$$$   | $$$$$$$/| $$$$$$$/| $$$$$   | $$ $$ $$| $$$$$   | $$  | $$| $$$$$$$/\n",
    "| $$__/   | $$  $$$$   | $$   | $$__  $$| $$__/   | $$____/ | $$__  $$| $$__/   | $$  $$$$| $$__/   | $$  | $$| $$__  $$\n",
    "| $$      | $$\\  $$$   | $$   | $$  \\ $$| $$      | $$      | $$  \\ $$| $$      | $$\\  $$$| $$      | $$  | $$| $$  \\ $$\n",
    "| $$$$$$$$| $$ \\  $$   | $$   | $$  | $$| $$$$$$$$| $$      | $$  | $$| $$$$$$$$| $$ \\  $$| $$$$$$$$|  $$$$$$/| $$  | $$\n",
    "|________/|__/  \\__/   |__/   |__/  |__/|________/|__/      |__/  |__/|________/|__/  \\__/|________/ \\______/ |__/  |__/                                                                                                                      \n",
    "\"\"\")                                                                                                                        \n",
    "\n",
    "#drpdown2 = ipw.Dropdown(options = ['Select one', 'Three', 'One', 'Four', 'Six'], description = \"Options:\")\n",
    "#display(drpdown2)\n",
    "time.sleep(0.2)\n",
    "\n",
    "\n",
    "\n",
    "#user_guess2 = drpdown2.value\n",
    "optn2 = 3\n",
    "while optn2 > 0:\n",
    "    user_sel2 = input('please type you answer! ')\n",
    "    optn2 -= 1\n",
    "    if user_sel2 == 'Three' or user_sel2 == '3' or user_sel2 == 'three' or user_sel2 == 'R' or user_sel2 == 'r':\n",
    "        display(correct_ans_1)\n",
    "        print(\"Nice Work\")\n",
    "        progress.value += 2\n",
    "        display(progress)\n",
    "        break\n",
    "    else: \n",
    "        display(wrong_ans_1)\n",
    "        lose.value += 2.9\n",
    "        display(lose)\n",
    "        print (\"Restart the game\" + f\"chances left {optn2 - 1}\")\n",
    "        if optn2 == 0 or lose.value >= 8: \n",
    "            sys.exit(0)\n",
    "        \n",
    "\n",
    "time.sleep(0.2)\n",
    "print(\"--------------------------------------------------------------------------------------\")\n",
    "display(ques_3)\n",
    "print(\"\"\"\n",
    "                                    Hint: It is a famous name, however it’s also a duck!.\n",
    "\n",
    "           _     _ _             \n",
    "          | |   | | |            \n",
    "  __ _  __| | __| | | ___  _ __  \n",
    " / _` |/ _` |/ _` | |/ _ \\| '_ \\ \n",
    "| (_| | (_| | (_| | | (_) | | | |\n",
    " \\__,_|\\__,_|\\__,_|_|\\___/|_| |_|\n",
    "                                               \n",
    "\n",
    "\"\"\")\n",
    "\n",
    "    \n",
    "\n",
    "word3 = 3\n",
    " \n",
    "\n",
    "while word3 > 0:\n",
    "    print(\"lets see how you perform\\n\")\n",
    "    user_guess2 = input('please type you answer! ')\n",
    "    word3 -= 1 \n",
    "    if user_guess2 == 'DONALD' or user_guess2 == 'donald' or user_guess2 == 'Donald':\n",
    "        display(correct_ans_1)\n",
    "        print(f\" You played well {name}, Congratulations!\" )\n",
    "        progress.value += 2\n",
    "        display(progress)\n",
    "        break \n",
    "        #final_msg.layout.visibility = \"visible\"\n",
    "    else:\n",
    "        display(wrong_ans_1)\n",
    "        lose.value += 2.5\n",
    "        display(lose)\n",
    "        print(f\" {name}, You have\",(word3-1),\"chances left\" + \"Also this time try with caps lock ON\")\n",
    "        if word3 == 0 or lose.value >= 8:\n",
    "            print(\"You lost, Better Luck Next Time\")\n",
    "            sys.exit(0)\n",
    "        \n",
    "\n",
    "time.sleep(2)\n",
    "input(\"< press enter to continue >\")\n",
    "\n",
    "print(\"---------------------------------------------------------------------------------------------------\")\n",
    "story = HTML(\"<b><h1 style= 'color:GREEN'> Donald who is a wonderful Entrepreneur had a divorce and wants to go as far as possible from San Fran.</h1></b>\")\n",
    "display(story)\n",
    "#making dictionaries of dictionaries\n",
    "major_city = {'Newyork' : {'distance in M': 2905},  'Atlanta': {'distance in M': 2465}, 'Washington D.C.': {'distance in M': 2825}, 'Tampa' : {' distance in M': 2909}} \n",
    "\n",
    "print(\"\\n Now empathize with Donald and pick a city that’s the farthest in the US.\\n\")\n",
    "\n",
    "Newyork, Atlanta,Washington D.C.\n",
    "\n",
    "time.sleep(0.5)\n",
    "sel4 = 2\n",
    "while sel4 > 0:\n",
    "    user_sel4 = input(\" Select a City: \")\n",
    "    sel4 -= 1\n",
    "\n",
    "    if user_sel4 == '2' or user_sel4 == '' or user_sel4 == 'WASHINGTON D.C' or user_sel4 == 'Washington D.C' or user_sel4 == 'washington d c':\n",
    "        display(correct_ans_geo)\n",
    "        print(\"Washington D.C is one of the farthest but not the farthest. Reason you won: Because, Why not?  \")\n",
    "        progress.value += 2\n",
    "        break\n",
    "\n",
    "    else:\n",
    "        display(wrong_ans_geo)\n",
    "        lose.value += 2.5 \n",
    "        display(lose)\n",
    "        print(\" try again!\")\n",
    "        print(f\" You have\",(sel4-1),\"chance left\")\n",
    "        if sel4 == 0 or lose.value >= 8:\n",
    "            sys.exit(\"You lost, Better Luck Next Time\")\n",
    "        \n",
    "        \n",
    "print (major_city['Tampa'])\n",
    "print (f\" Wow {name}! you have helped Donald persoanally! \")\n",
    "\n",
    "display(progress)\n",
    "display(final_msg) \n",
    "\n",
    "print(\"Answer question below to know intresting facts! (This is not have any points!)\\n\") \n",
    "\n",
    "# final questions age and gender based!\n",
    "if age <= 25:\n",
    "    print(f\"{name}, What color pant/dress are you wearing?\")\n",
    "    time.sleep(0.2)\n",
    "    Tri_in1 = input()\n",
    "    print(f\"Did you know {Tri_in1} Color Can Trigger Deep Childhood Memories\")\n",
    "    if gender == 'female' or gender == 'Female' or gender == 'FEMALE' or gender == 'F' or gender == 'f':\n",
    "        print(\"The average woman will eat 4 lb of lipstick in her lifetime.\")\n",
    "    else:\n",
    "        print(\"\"\"\\n Did you know, You don’t have to necessarily possess a degree or a Ph.D. \n",
    "        Data science requires you to know the fundamentals of analytics.\"\"\")\n",
    "elif age < 35 and age > 25 :\n",
    "    print(f\"\\n {name} What is the amount of cash(USD) in your Wallet?\")\n",
    "    time.sleep(0.2)\n",
    "    Tri_in2 = int(input()) \n",
    "    print(f\"\\n If you have ${Tri_in2} without any debt you're richer than 25% of the Americans\")\n",
    "    if gender == 'female' or gender == 'Female' or gender == 'FEMALE' or gender == 'F' or gender == 'f':\n",
    "        print(f\"\\n {name}  Did you know, 1 in 3 married women earn more money each year than their husbands do.\")\n",
    "    else:\n",
    "        print(f\"\\n {name} Did you know, of all the currency in the world, roughly eight percent of it is actual physical money. The other 92% of money only exists digitally.\")\n",
    "else:\n",
    "    print(f\"\\n{name} what color socks are you wearing? If not wearing please enter your shoe color! \")\n",
    "    time.sleep(0.2)\n",
    "    Tri_in3 = input()\n",
    "    print(f\"\\n Lost {Tri_in3} socks can cost you £240 a year.\")\n",
    "    if gender == 'female' or gender == 'Female' or gender == 'FEMALE' or gender == 'F' or gender == 'f':\n",
    "        print(f\"\\n {name} Did you know, 45% of all U.S. millionaires are women.\")\n",
    "        \n",
    "    \n",
    "display(intruction2)\n"
   ]
  },
  {
   "cell_type": "code",
   "execution_count": null,
   "metadata": {},
   "outputs": [],
   "source": []
  },
  {
   "cell_type": "code",
   "execution_count": null,
   "metadata": {},
   "outputs": [],
   "source": []
  }
 ],
 "metadata": {
  "hide_input": false,
  "kernelspec": {
   "display_name": "Python 3",
   "language": "python",
   "name": "python3"
  },
  "language_info": {
   "codemirror_mode": {
    "name": "ipython",
    "version": 3
   },
   "file_extension": ".py",
   "mimetype": "text/x-python",
   "name": "python",
   "nbconvert_exporter": "python",
   "pygments_lexer": "ipython3",
   "version": "3.7.3"
  },
  "toc": {
   "base_numbering": 1,
   "nav_menu": {},
   "number_sections": true,
   "sideBar": true,
   "skip_h1_title": false,
   "title_cell": "Table of Contents",
   "title_sidebar": "Contents",
   "toc_cell": false,
   "toc_position": {},
   "toc_section_display": true,
   "toc_window_display": false
  },
  "varInspector": {
   "cols": {
    "lenName": 16,
    "lenType": 16,
    "lenVar": 40
   },
   "kernels_config": {
    "python": {
     "delete_cmd_postfix": "",
     "delete_cmd_prefix": "del ",
     "library": "var_list.py",
     "varRefreshCmd": "print(var_dic_list())"
    },
    "r": {
     "delete_cmd_postfix": ") ",
     "delete_cmd_prefix": "rm(",
     "library": "var_list.r",
     "varRefreshCmd": "cat(var_dic_list()) "
    }
   },
   "types_to_exclude": [
    "module",
    "function",
    "builtin_function_or_method",
    "instance",
    "_Feature"
   ],
   "window_display": false
  }
 },
 "nbformat": 4,
 "nbformat_minor": 2
}
